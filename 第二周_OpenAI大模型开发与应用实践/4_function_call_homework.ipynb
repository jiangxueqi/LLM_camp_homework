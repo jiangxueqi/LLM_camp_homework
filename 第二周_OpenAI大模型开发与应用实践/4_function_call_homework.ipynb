{
  "nbformat": 4,
  "nbformat_minor": 0,
  "metadata": {
    "colab": {
      "provenance": []
    },
    "kernelspec": {
      "name": "python3",
      "display_name": "Python 3"
    },
    "language_info": {
      "name": "python"
    }
  },
  "cells": [
    {
      "cell_type": "markdown",
      "source": [
        "# 环境准备\n",
        "\n",
        "在谷歌Colab上运行，数据从谷歌云盘上加载"
      ],
      "metadata": {
        "id": "8JLgo5-NxE_-"
      }
    },
    {
      "cell_type": "code",
      "execution_count": 1,
      "metadata": {
        "id": "wnOzSqZaw6KV",
        "colab": {
          "base_uri": "https://localhost:8080/"
        },
        "outputId": "efdfbc91-40d3-4607-ebb0-e0d16fcd2849"
      },
      "outputs": [
        {
          "output_type": "stream",
          "name": "stdout",
          "text": [
            "Collecting openai\n",
            "  Downloading openai-0.27.8-py3-none-any.whl (73 kB)\n",
            "\u001b[?25l     \u001b[90m━━━━━━━━━━━━━━━━━━━━━━━━━━━━━━━━━━━━━━━━\u001b[0m \u001b[32m0.0/73.6 kB\u001b[0m \u001b[31m?\u001b[0m eta \u001b[36m-:--:--\u001b[0m\r\u001b[2K     \u001b[90m━━━━━━━━━━━━━━━━━━━━━━━━━━━━━━━━━━━━━━━━\u001b[0m \u001b[32m73.6/73.6 kB\u001b[0m \u001b[31m2.1 MB/s\u001b[0m eta \u001b[36m0:00:00\u001b[0m\n",
            "\u001b[?25hRequirement already satisfied: requests>=2.20 in /usr/local/lib/python3.10/dist-packages (from openai) (2.27.1)\n",
            "Requirement already satisfied: tqdm in /usr/local/lib/python3.10/dist-packages (from openai) (4.65.0)\n",
            "Requirement already satisfied: aiohttp in /usr/local/lib/python3.10/dist-packages (from openai) (3.8.5)\n",
            "Requirement already satisfied: urllib3<1.27,>=1.21.1 in /usr/local/lib/python3.10/dist-packages (from requests>=2.20->openai) (1.26.16)\n",
            "Requirement already satisfied: certifi>=2017.4.17 in /usr/local/lib/python3.10/dist-packages (from requests>=2.20->openai) (2023.7.22)\n",
            "Requirement already satisfied: charset-normalizer~=2.0.0 in /usr/local/lib/python3.10/dist-packages (from requests>=2.20->openai) (2.0.12)\n",
            "Requirement already satisfied: idna<4,>=2.5 in /usr/local/lib/python3.10/dist-packages (from requests>=2.20->openai) (3.4)\n",
            "Requirement already satisfied: attrs>=17.3.0 in /usr/local/lib/python3.10/dist-packages (from aiohttp->openai) (23.1.0)\n",
            "Requirement already satisfied: multidict<7.0,>=4.5 in /usr/local/lib/python3.10/dist-packages (from aiohttp->openai) (6.0.4)\n",
            "Requirement already satisfied: async-timeout<5.0,>=4.0.0a3 in /usr/local/lib/python3.10/dist-packages (from aiohttp->openai) (4.0.2)\n",
            "Requirement already satisfied: yarl<2.0,>=1.0 in /usr/local/lib/python3.10/dist-packages (from aiohttp->openai) (1.9.2)\n",
            "Requirement already satisfied: frozenlist>=1.1.1 in /usr/local/lib/python3.10/dist-packages (from aiohttp->openai) (1.4.0)\n",
            "Requirement already satisfied: aiosignal>=1.1.2 in /usr/local/lib/python3.10/dist-packages (from aiohttp->openai) (1.3.1)\n",
            "Installing collected packages: openai\n",
            "Successfully installed openai-0.27.8\n"
          ]
        }
      ],
      "source": [
        "%pip install openai"
      ]
    },
    {
      "cell_type": "code",
      "source": [
        "from google.colab import drive\n",
        "drive.mount('/content/drive')\n",
        "\n",
        "import json\n",
        "import openai\n",
        "import os\n",
        "with open(\"/content/drive/MyDrive/config/openai.json\", \"r\") as f:\n",
        "  config_data = json.load(f)\n",
        "\n",
        "api_key = config_data.get(\"api_key\")\n",
        "openai.api_key = api_key"
      ],
      "metadata": {
        "id": "l7fT0659xpf_",
        "colab": {
          "base_uri": "https://localhost:8080/"
        },
        "outputId": "68c71c72-8959-4d58-851b-3accb8032cfe"
      },
      "execution_count": 2,
      "outputs": [
        {
          "output_type": "stream",
          "name": "stdout",
          "text": [
            "Mounted at /content/drive\n"
          ]
        }
      ]
    },
    {
      "cell_type": "code",
      "source": [
        "def load_data(source_path):\n",
        "  import os\n",
        "  import shutil\n",
        "  if not os.path.exists(\"/content/data\"):\n",
        "    os.mkdir(\"/content/data\")\n",
        "  file_name = os.path.basename(source_path)\n",
        "  dest_path = os.path.abspath(os.path.join(\"/content/data\", file_name))\n",
        "  if not os.path.exists(dest_path):\n",
        "    shutil.copy(source_path, dest_path)\n",
        "  return dest_path"
      ],
      "metadata": {
        "id": "XbXUnHVjxt1m"
      },
      "execution_count": 3,
      "outputs": []
    },
    {
      "cell_type": "markdown",
      "source": [
        "# Homework1\n",
        "\n",
        "使用openai.ChatCompletion.create方法代替chat_completion_request实现本notebook所有功能"
      ],
      "metadata": {
        "id": "A0Wd2FUmxzy-"
      }
    },
    {
      "cell_type": "markdown",
      "source": [
        "## 1、定于工具函数"
      ],
      "metadata": {
        "id": "o5Dhph9IPhQt"
      }
    },
    {
      "cell_type": "code",
      "source": [
        "# 使用了retry库，指定在请求失败时的重试策略。\n",
        "# 这里设定的是指数等待（wait_random_exponential），时间间隔的最大值为40秒，并且最多重试3次（stop_after_attempt(3)）。\n",
        "# 定义一个函数chat_completion_api，通过 OpenAI Python 库调用 Chat Completions API\n",
        "from tenacity import retry, wait_random_exponential, stop_after_attempt\n",
        "from termcolor import colored\n",
        "\n",
        "GPT_MODEL = \"gpt-3.5-turbo\"\n",
        "\n",
        "@retry(wait=wait_random_exponential(multiplier=1, max=40), stop=stop_after_attempt(3))\n",
        "def chat_completion_api(messages, functions=None, function_call_name=None, model=GPT_MODEL):\n",
        "    try:\n",
        "      if functions:\n",
        "        if function_call_name and function_call_name != \"none\":\n",
        "          return openai.ChatCompletion.create(\n",
        "              model = model,\n",
        "              messages = messages,\n",
        "              functions = functions,\n",
        "              function_call = {\"name\":function_call_name}\n",
        "            )\n",
        "        elif function_call_name and function_call_name == \"none\":\n",
        "          return openai.ChatCompletion.create(\n",
        "              model = model,\n",
        "              messages = messages,\n",
        "              functions = functions,\n",
        "              function_call = \"none\"\n",
        "            )\n",
        "        else:\n",
        "          return openai.ChatCompletion.create(\n",
        "                model = model,\n",
        "                messages = messages,\n",
        "                functions = functions\n",
        "              )\n",
        "      return openai.ChatCompletion.create(\n",
        "              model = model,\n",
        "              messages = messages\n",
        "            )\n",
        "    # 如果发送请求或处理响应时出现异常，打印异常信息并返回\n",
        "    except Exception as e:\n",
        "        print(\"Unable to generate ChatCompletion response\")\n",
        "        print(f\"Exception: {e}\")\n",
        "        return e"
      ],
      "metadata": {
        "id": "vur0z5MGyQKG"
      },
      "execution_count": 4,
      "outputs": []
    },
    {
      "cell_type": "code",
      "source": [
        "# 定义一个函数pretty_print_conversation，用于打印消息对话内容\n",
        "def pretty_print_conversation(messages):\n",
        "\n",
        "    # 为不同角色设置不同的颜色\n",
        "    role_to_color = {\n",
        "        \"system\": \"red\",\n",
        "        \"user\": \"green\",\n",
        "        \"assistant\": \"blue\",\n",
        "        \"function\": \"magenta\",\n",
        "    }\n",
        "\n",
        "    # 遍历消息列表\n",
        "    for message in messages:\n",
        "\n",
        "        # 如果消息的角色是\"system\"，则用红色打印“content”\n",
        "        if message[\"role\"] == \"system\":\n",
        "            print(colored(f\"system: {message['content']}\\n\", role_to_color[message[\"role\"]]))\n",
        "\n",
        "        # 如果消息的角色是\"user\"，则用绿色打印“content”\n",
        "        elif message[\"role\"] == \"user\":\n",
        "            print(colored(f\"user: {message['content']}\\n\", role_to_color[message[\"role\"]]))\n",
        "\n",
        "        # 如果消息的角色是\"assistant\"，并且消息中包含\"function_call\"，则用蓝色打印\"function_call\"\n",
        "        elif message[\"role\"] == \"assistant\" and message.get(\"function_call\"):\n",
        "            print(colored(f\"assistant[function_call]: {message['function_call']}\\n\", role_to_color[message[\"role\"]]))\n",
        "\n",
        "        # 如果消息的角色是\"assistant\"，但是消息中不包含\"function_call\"，则用蓝色打印“content”\n",
        "        elif message[\"role\"] == \"assistant\" and not message.get(\"function_call\"):\n",
        "            print(colored(f\"assistant[content]: {message['content']}\\n\", role_to_color[message[\"role\"]]))\n",
        "\n",
        "        # 如果消息的角色是\"function\"，则用品红色打印“function”\n",
        "        elif message[\"role\"] == \"function\":\n",
        "            print(colored(f\"function ({message['name']}): {message['content']}\\n\", role_to_color[message[\"role\"]]))"
      ],
      "metadata": {
        "id": "WrVKk0vV28TF"
      },
      "execution_count": 5,
      "outputs": []
    },
    {
      "cell_type": "code",
      "source": [
        "# 定义转为assistant_message对象为字典的函数\n",
        "\n",
        "def format_assistant_message_dict(assistant_message):\n",
        "  if assistant_message.get(\"function_call\"):\n",
        "    return {\"role\": assistant_message.role, \"content\": None, \"function_call\": assistant_message.function_call}\n",
        "  return {\"role\": assistant_message.role, \"content\": assistant_message.content}"
      ],
      "metadata": {
        "id": "u8GjpiAyZJV6"
      },
      "execution_count": 6,
      "outputs": []
    },
    {
      "cell_type": "markdown",
      "source": [
        "## 2、定义函数列表，分别是获取当前天气和获取未来N天的天气"
      ],
      "metadata": {
        "id": "WQTLrnUFPppq"
      }
    },
    {
      "cell_type": "code",
      "source": [
        "# 定义一个名为functions的列表，其中包含两个字典，这两个字典分别定义了两个功能的相关参数\n",
        "\n",
        "# 第一个字典定义了一个名为\"get_current_weather\"的功能\n",
        "functions = [\n",
        "    {\n",
        "        \"name\": \"get_current_weather\",  # 函数的名称\n",
        "        \"description\": \"Get the current weather\",  # 函数的描述\n",
        "        \"parameters\": {  # 定义该函数需要的参数\n",
        "            \"type\": \"object\",\n",
        "            \"properties\": {  # 参数的属性\n",
        "                \"location\": {  # 地点参数\n",
        "                    \"type\": \"string\",  # 参数类型为字符串\n",
        "                    \"description\": \"The city and state, e.g. San Francisco, CA\",  # 参数的描述\n",
        "                },\n",
        "                \"format\": {  # 温度单位参数\n",
        "                    \"type\": \"string\",  # 参数类型为字符串\n",
        "                    \"enum\": [\"celsius\", \"fahrenheit\"],  # 参数的取值范围\n",
        "                    \"description\": \"The temperature unit to use. Infer this from the users location.\",  # 参数的描述\n",
        "                },\n",
        "            },\n",
        "            \"required\": [\"location\", \"format\"],  # 该功能需要的必要参数\n",
        "        },\n",
        "    },\n",
        "    # 第二个字典定义了一个名为\"get_n_day_weather_forecast\"的功能\n",
        "    {\n",
        "        \"name\": \"get_n_day_weather_forecast\",  # 功能的名称\n",
        "        \"description\": \"Get an N-day weather forecast\",  # 功能的描述\n",
        "        \"parameters\": {  # 定义该功能需要的参数\n",
        "            \"type\": \"object\",\n",
        "            \"properties\": {  # 参数的属性\n",
        "                \"location\": {  # 地点参数\n",
        "                    \"type\": \"string\",  # 参数类型为字符串\n",
        "                    \"description\": \"The city and state, e.g. San Francisco, CA\",  # 参数的描述\n",
        "                },\n",
        "                \"format\": {  # 温度单位参数\n",
        "                    \"type\": \"string\",  # 参数类型为字符串\n",
        "                    \"enum\": [\"celsius\", \"fahrenheit\"],  # 参数的取值范围\n",
        "                    \"description\": \"The temperature unit to use. Infer this from the users location.\",  # 参数的描述\n",
        "                },\n",
        "                \"num_days\": {  # 预测天数参数\n",
        "                    \"type\": \"integer\",  # 参数类型为整数\n",
        "                    \"description\": \"The number of days to forecast\",  # 参数的描述\n",
        "                }\n",
        "            },\n",
        "            \"required\": [\"location\", \"format\", \"num_days\"]  # 该功能需要的必要参数\n",
        "        },\n",
        "    },\n",
        "]\n"
      ],
      "metadata": {
        "id": "OjFCCTA13BO1"
      },
      "execution_count": 7,
      "outputs": []
    },
    {
      "cell_type": "markdown",
      "source": [
        "## 3、使用GPT模型生成函数和对应参数"
      ],
      "metadata": {
        "id": "3hEBl_H2Ygkq"
      }
    },
    {
      "cell_type": "markdown",
      "source": [
        "### 3.1、询问当前天气"
      ],
      "metadata": {
        "id": "Nh_CaE1xYsQQ"
      }
    },
    {
      "cell_type": "code",
      "source": [
        "# 定义一个空列表messages，用于存储聊天的内容\n",
        "messages = []\n",
        "\n",
        "# 使用append方法向messages列表添加一条系统角色的消息\n",
        "messages.append({\n",
        "    \"role\": \"system\",  # 消息的角色是\"system\"\n",
        "    \"content\": \"Don't make assumptions about what values to plug into functions. Ask for clarification if a user request is ambiguous.\"  # 消息的内容\n",
        "})\n",
        "\n",
        "# 向messages列表添加一条用户角色的消息\n",
        "messages.append({\n",
        "    \"role\": \"user\",  # 消息的角色是\"user\"\n",
        "    \"content\": \"What's the weather like today\"  # 用户询问今天的天气情况\n",
        "})\n",
        "\n",
        "# 使用定义的chat_completion_api函数发起一个请求，传入messages和functions作为参数\n",
        "response = chat_completion_api(messages, functions=functions)\n",
        "\n",
        "# 解析返回的JSON数据，获取助手的回复消息\n",
        "assistant_message = response[\"choices\"][0][\"message\"]\n",
        "\n",
        "assistant_message_dict = format_assistant_message_dict(assistant_message)\n",
        "\n",
        "\n",
        "# 将助手的回复消息添加到messages列表中\n",
        "messages.append(assistant_message_dict)\n",
        "\n",
        "pretty_print_conversation(messages)"
      ],
      "metadata": {
        "id": "83qZ-5Aw3Rvl",
        "colab": {
          "base_uri": "https://localhost:8080/"
        },
        "outputId": "2c0f1858-5129-4b77-9132-932d1be5119e"
      },
      "execution_count": 8,
      "outputs": [
        {
          "output_type": "stream",
          "name": "stdout",
          "text": [
            "system: Don't make assumptions about what values to plug into functions. Ask for clarification if a user request is ambiguous.\n",
            "\n",
            "user: What's the weather like today\n",
            "\n",
            "assistant[content]: Sure! Can you please provide me with your current location?\n",
            "\n"
          ]
        }
      ]
    },
    {
      "cell_type": "markdown",
      "source": [
        "### 3.2、增加用户位置信息后，再次询问"
      ],
      "metadata": {
        "id": "bIPkVEduY_D6"
      }
    },
    {
      "cell_type": "code",
      "source": [
        "# 向messages列表添加一条用户角色的消息\n",
        "messages.append({\n",
        "    \"role\": \"user\",  # 消息的角色是\"user\"\n",
        "    \"content\": \"I'm in Shenzhen, China.\"  # 用户的消息内容\n",
        "})\n",
        "\n",
        "response = chat_completion_api(messages, functions=functions)\n",
        "assistant_message = response[\"choices\"][0][\"message\"]\n",
        "\n",
        "assistant_message_dict = format_assistant_message_dict(assistant_message)\n",
        "messages.append(assistant_message_dict)\n",
        "\n",
        "pretty_print_conversation(messages)"
      ],
      "metadata": {
        "id": "4_bHxf8nZVpq",
        "colab": {
          "base_uri": "https://localhost:8080/"
        },
        "outputId": "cebda207-aef5-4e32-caf3-8ca3295590c5"
      },
      "execution_count": 9,
      "outputs": [
        {
          "output_type": "stream",
          "name": "stdout",
          "text": [
            "system: Don't make assumptions about what values to plug into functions. Ask for clarification if a user request is ambiguous.\n",
            "\n",
            "user: What's the weather like today\n",
            "\n",
            "assistant[content]: Sure! Can you please provide me with your current location?\n",
            "\n",
            "user: I'm in Shenzhen, China.\n",
            "\n",
            "assistant[function_call]: {\n",
            "  \"name\": \"get_current_weather\",\n",
            "  \"arguments\": \"{\\n  \\\"location\\\": \\\"Shenzhen, China\\\",\\n  \\\"format\\\": \\\"celsius\\\"\\n}\"\n",
            "}\n",
            "\n"
          ]
        }
      ]
    },
    {
      "cell_type": "markdown",
      "source": [
        "### 3.3、询问深圳未来若干天的天气情况"
      ],
      "metadata": {
        "id": "sfY2Ib8qaDla"
      }
    },
    {
      "cell_type": "code",
      "source": [
        "# 定义一个空列表messages，用于存储聊天的内容\n",
        "messages = []\n",
        "\n",
        "# 使用append方法向messages列表添加一条系统角色的消息\n",
        "messages.append({\n",
        "    \"role\": \"system\",  # 消息的角色是\"system\"\n",
        "    \"content\": \"Don't make assumptions about what values to plug into functions. Ask for clarification if a user request is ambiguous.\"  # 消息的内容\n",
        "})\n",
        "\n",
        "# 向messages列表添加一条用户角色的消息\n",
        "messages.append({\n",
        "    \"role\": \"user\",  # 消息的角色是\"user\"\n",
        "    \"content\": \"what is the weather going to be like in Shenzhen, China over the next x days\"  # 用户询问今天的天气情况\n",
        "})\n",
        "\n",
        "response = chat_completion_api(messages, functions=functions)\n",
        "assistant_message = response[\"choices\"][0][\"message\"]\n",
        "assistant_message_dict = format_assistant_message_dict(assistant_message)\n",
        "messages.append(assistant_message_dict)\n",
        "\n",
        "pretty_print_conversation(messages)"
      ],
      "metadata": {
        "id": "7O1BUaXsaYX7",
        "colab": {
          "base_uri": "https://localhost:8080/"
        },
        "outputId": "99e6a82f-0cf3-4bf5-da06-b15bc8721852"
      },
      "execution_count": 10,
      "outputs": [
        {
          "output_type": "stream",
          "name": "stdout",
          "text": [
            "system: Don't make assumptions about what values to plug into functions. Ask for clarification if a user request is ambiguous.\n",
            "\n",
            "user: what is the weather going to be like in Shenzhen, China over the next x days\n",
            "\n",
            "assistant[content]: Sure, I can help you with that. Please provide me with the number of days you would like to get the weather forecast for.\n",
            "\n"
          ]
        }
      ]
    },
    {
      "cell_type": "markdown",
      "source": [
        "###3.4、确定询问未来5天的天气情况"
      ],
      "metadata": {
        "id": "4TdkI8cfbHd9"
      }
    },
    {
      "cell_type": "code",
      "source": [
        "# 向messages列表添加一条用户角色的消息，用户指定接下来的天数为5天\n",
        "messages.append({\n",
        "    \"role\": \"user\",  # 消息的角色是\"user\"\n",
        "    \"content\": \"5 days\"\n",
        "})\n",
        "\n",
        "response = chat_completion_api(messages, functions=functions)\n",
        "assistant_message = response[\"choices\"][0][\"message\"]\n",
        "assistant_message_dict = format_assistant_message_dict(assistant_message)\n",
        "messages.append(assistant_message_dict)\n",
        "\n",
        "pretty_print_conversation(messages)"
      ],
      "metadata": {
        "id": "gQP75L-NbLiW",
        "colab": {
          "base_uri": "https://localhost:8080/"
        },
        "outputId": "b3f9e9a6-2ebf-4d86-ce31-e8039cdda796"
      },
      "execution_count": 11,
      "outputs": [
        {
          "output_type": "stream",
          "name": "stdout",
          "text": [
            "system: Don't make assumptions about what values to plug into functions. Ask for clarification if a user request is ambiguous.\n",
            "\n",
            "user: what is the weather going to be like in Shenzhen, China over the next x days\n",
            "\n",
            "assistant[content]: Sure, I can help you with that. Please provide me with the number of days you would like to get the weather forecast for.\n",
            "\n",
            "user: 5 days\n",
            "\n",
            "assistant[function_call]: {\n",
            "  \"name\": \"get_n_day_weather_forecast\",\n",
            "  \"arguments\": \"{\\n  \\\"location\\\": \\\"Shenzhen, China\\\",\\n  \\\"format\\\": \\\"celsius\\\",\\n  \\\"num_days\\\": 5\\n}\"\n",
            "}\n",
            "\n"
          ]
        }
      ]
    },
    {
      "cell_type": "markdown",
      "source": [
        "###3.5、强制使用特定函数"
      ],
      "metadata": {
        "id": "gZdg2CXMbjN7"
      }
    },
    {
      "cell_type": "code",
      "source": [
        "messages = []\n",
        "\n",
        "# 使用append方法向messages列表添加一条系统角色的消息\n",
        "messages.append({\n",
        "    \"role\": \"system\",  # 消息的角色是\"system\"\n",
        "    \"content\": \"Don't make assumptions about what values to plug into functions. Ask for clarification if a user request is ambiguous.\"  # 消息的内容\n",
        "})\n",
        "\n",
        "# 向messages列表添加一条用户角色的消息\n",
        "messages.append({\n",
        "    \"role\": \"user\",  # 消息的角色是\"user\"\n",
        "    \"content\": \"What's the weather like today in ShenZhen，Chain\"  # 用户询问今天的天气情况\n",
        "})\n",
        "\n",
        "response = chat_completion_api(messages, functions=functions, function_call_name = \"get_n_day_weather_forecast\")\n",
        "\n",
        "assistant_message = response[\"choices\"][0][\"message\"]\n",
        "assistant_message_dict = format_assistant_message_dict(assistant_message)\n",
        "messages.append(assistant_message_dict)\n",
        "\n",
        "pretty_print_conversation(messages)"
      ],
      "metadata": {
        "id": "VaxC7ex6bvxc",
        "colab": {
          "base_uri": "https://localhost:8080/"
        },
        "outputId": "8c18635a-43f8-4e07-e57b-02dfb3284bbd"
      },
      "execution_count": 12,
      "outputs": [
        {
          "output_type": "stream",
          "name": "stdout",
          "text": [
            "system: Don't make assumptions about what values to plug into functions. Ask for clarification if a user request is ambiguous.\n",
            "\n",
            "user: What's the weather like today in ShenZhen，Chain\n",
            "\n",
            "assistant[function_call]: {\n",
            "  \"name\": \"get_n_day_weather_forecast\",\n",
            "  \"arguments\": \"{\\n  \\\"location\\\": \\\"ShenZhen, China\\\",\\n  \\\"format\\\": \\\"celsius\\\",\\n  \\\"num_days\\\": 1\\n}\"\n",
            "}\n",
            "\n"
          ]
        }
      ]
    },
    {
      "cell_type": "markdown",
      "source": [
        "###3.6、不强制使用特定函数"
      ],
      "metadata": {
        "id": "a2rKSXGIcsb8"
      }
    },
    {
      "cell_type": "code",
      "source": [
        "messages = []\n",
        "\n",
        "# 使用append方法向messages列表添加一条系统角色的消息\n",
        "messages.append({\n",
        "    \"role\": \"system\",  # 消息的角色是\"system\"\n",
        "    \"content\": \"Don't make assumptions about what values to plug into functions. Ask for clarification if a user request is ambiguous.\"  # 消息的内容\n",
        "})\n",
        "\n",
        "# 向messages列表添加一条用户角色的消息\n",
        "messages.append({\n",
        "    \"role\": \"user\",  # 消息的角色是\"user\"\n",
        "    \"content\": \"What's the weather like today in ShenZhen，Chain\"  # 用户询问今天的天气情况\n",
        "})\n",
        "\n",
        "response = chat_completion_api(messages, functions=functions)\n",
        "\n",
        "assistant_message = response[\"choices\"][0][\"message\"]\n",
        "assistant_message_dict = format_assistant_message_dict(assistant_message)\n",
        "messages.append(assistant_message_dict)\n",
        "\n",
        "pretty_print_conversation(messages)"
      ],
      "metadata": {
        "id": "gZ5qDmtwc0n4",
        "colab": {
          "base_uri": "https://localhost:8080/"
        },
        "outputId": "613ca0b3-1b8c-48c7-a197-82378b6a5532"
      },
      "execution_count": 13,
      "outputs": [
        {
          "output_type": "stream",
          "name": "stdout",
          "text": [
            "system: Don't make assumptions about what values to plug into functions. Ask for clarification if a user request is ambiguous.\n",
            "\n",
            "user: What's the weather like today in ShenZhen，Chain\n",
            "\n",
            "assistant[function_call]: {\n",
            "  \"name\": \"get_current_weather\",\n",
            "  \"arguments\": \"{\\n  \\\"location\\\": \\\"ShenZhen, China\\\",\\n  \\\"format\\\": \\\"celsius\\\"\\n}\"\n",
            "}\n",
            "\n"
          ]
        }
      ]
    },
    {
      "cell_type": "markdown",
      "source": [
        "### 3.7、强制不使用函数"
      ],
      "metadata": {
        "id": "94XptgVXdBQ_"
      }
    },
    {
      "cell_type": "code",
      "source": [
        "messages = []\n",
        "\n",
        "# 使用append方法向messages列表添加一条系统角色的消息\n",
        "messages.append({\n",
        "    \"role\": \"system\",  # 消息的角色是\"system\"\n",
        "    \"content\": \"Don't make assumptions about what values to plug into functions. Ask for clarification if a user request is ambiguous.\"  # 消息的内容\n",
        "})\n",
        "\n",
        "# 向messages列表添加一条用户角色的消息\n",
        "messages.append({\n",
        "    \"role\": \"user\",  # 消息的角色是\"user\"\n",
        "    \"content\": \"What's the weather like today in ShenZhen，Chain\"  # 用户询问今天的天气情况\n",
        "})\n",
        "\n",
        "response = chat_completion_api(messages, functions=functions, function_call_name = \"none\")\n",
        "\n",
        "assistant_message = response[\"choices\"][0][\"message\"]\n",
        "assistant_message_dict = format_assistant_message_dict(assistant_message)\n",
        "messages.append(assistant_message_dict)\n",
        "\n",
        "pretty_print_conversation(messages)"
      ],
      "metadata": {
        "id": "YINAqV07dFsF",
        "colab": {
          "base_uri": "https://localhost:8080/"
        },
        "outputId": "46f228f6-2d3c-46e8-ffd9-64b55ab00044"
      },
      "execution_count": 14,
      "outputs": [
        {
          "output_type": "stream",
          "name": "stdout",
          "text": [
            "system: Don't make assumptions about what values to plug into functions. Ask for clarification if a user request is ambiguous.\n",
            "\n",
            "user: What's the weather like today in ShenZhen，Chain\n",
            "\n",
            "assistant[content]: Sure, let me check the weather for you.\n",
            "\n"
          ]
        }
      ]
    },
    {
      "cell_type": "markdown",
      "source": [
        "## 4、执行GPT模型生成的函数"
      ],
      "metadata": {
        "id": "wYH6zLIhdsVm"
      }
    },
    {
      "cell_type": "markdown",
      "source": [
        "### 4.1、定义一个执行SQL查询的函数"
      ],
      "metadata": {
        "id": "1wLyDeX2d3Ih"
      }
    },
    {
      "cell_type": "code",
      "source": [
        "import sqlite3\n",
        "data_path = load_data(\"/content/drive/MyDrive/data/AI_LLM_training_camp/function_call/chinook.db\")\n",
        "conn = sqlite3.connect(data_path)\n",
        "print(\"Opened database successfully\")"
      ],
      "metadata": {
        "id": "XJ3fHj3-d7DU",
        "colab": {
          "base_uri": "https://localhost:8080/"
        },
        "outputId": "fac71f2e-e41b-467d-9dd2-75dfd9c9380a"
      },
      "execution_count": 15,
      "outputs": [
        {
          "output_type": "stream",
          "name": "stdout",
          "text": [
            "Opened database successfully\n"
          ]
        }
      ]
    },
    {
      "cell_type": "markdown",
      "source": [
        "### 4.2、定义3个与数据库查询有关函数"
      ],
      "metadata": {
        "id": "6-9foh0DeUwo"
      }
    },
    {
      "cell_type": "code",
      "source": [
        "def get_table_names(conn):\n",
        "    \"\"\"返回一个包含所有表名的列表\"\"\"\n",
        "    table_names = []  # 创建一个空的表名列表\n",
        "    # 执行SQL查询，获取数据库中所有表的名字\n",
        "    tables = conn.execute(\"SELECT name FROM sqlite_master WHERE type='table';\")\n",
        "    # 遍历查询结果，并将每个表名添加到列表中\n",
        "    for table in tables.fetchall():\n",
        "        table_names.append(table[0])\n",
        "    return table_names  # 返回表名列表\n",
        "\n",
        "\n",
        "def get_column_names(conn, table_name):\n",
        "    \"\"\"返回一个给定表的所有列名的列表\"\"\"\n",
        "    column_names = []  # 创建一个空的列名列表\n",
        "    # 执行SQL查询，获取表的所有列的信息\n",
        "    columns = conn.execute(f\"PRAGMA table_info('{table_name}');\").fetchall()\n",
        "    # 遍历查询结果，并将每个列名添加到列表中\n",
        "    for col in columns:\n",
        "        column_names.append(col[1])\n",
        "    return column_names  # 返回列名列表\n",
        "\n",
        "\n",
        "def get_database_info(conn):\n",
        "    \"\"\"返回一个字典列表，每个字典包含一个表的名字和列信息\"\"\"\n",
        "    table_dicts = []  # 创建一个空的字典列表\n",
        "    # 遍历数据库中的所有表\n",
        "    for table_name in get_table_names(conn):\n",
        "        columns_names = get_column_names(conn, table_name)  # 获取当前表的所有列名\n",
        "        # 将表名和列名信息作为一个字典添加到列表中\n",
        "        table_dicts.append({\"table_name\": table_name, \"column_names\": columns_names})\n",
        "    return table_dicts  # 返回字典列表"
      ],
      "metadata": {
        "id": "ZTcYfVlEeZvG"
      },
      "execution_count": 16,
      "outputs": []
    },
    {
      "cell_type": "markdown",
      "source": [
        "### 4.3、定义函数功能列表，让 GPT 模型帮我们构造一个完整的 SQL 查询"
      ],
      "metadata": {
        "id": "fqj983cNfn1G"
      }
    },
    {
      "cell_type": "code",
      "source": [
        "# 获取数据库信息，并存储为字典列表\n",
        "database_schema_dict = get_database_info(conn)\n",
        "\n",
        "# 将数据库信息转换为字符串格式，方便后续使用\n",
        "database_schema_string = \"\\n\".join(\n",
        "    [\n",
        "        f\"Table: {table['table_name']}\\nColumns: {', '.join(table['column_names'])}\"\n",
        "        for table in database_schema_dict\n",
        "    ]\n",
        ")\n",
        "\n",
        "# 定义一个功能列表，其中包含一个功能字典，该字典定义了一个名为\"ask_database\"的功能，用于回答用户关于音乐的问题\n",
        "functions = [\n",
        "    {\n",
        "        \"name\": \"ask_database\",\n",
        "        \"description\": \"Use this function to answer user questions about music. Output should be a fully formed SQL query.\",\n",
        "        \"parameters\": {\n",
        "            \"type\": \"object\",\n",
        "            \"properties\": {\n",
        "                \"query\": {\n",
        "                    \"type\": \"string\",\n",
        "                    \"description\": f\"\"\"\n",
        "                            SQL query extracting info to answer the user's question.\n",
        "                            SQL should be written using this database schema:\n",
        "                            {database_schema_string}\n",
        "                            The query should be returned in plain text, not in JSON.\n",
        "                            \"\"\",\n",
        "                }\n",
        "            },\n",
        "            \"required\": [\"query\"],\n",
        "        },\n",
        "    }\n",
        "]"
      ],
      "metadata": {
        "id": "-xpRo41Wg-xW"
      },
      "execution_count": 17,
      "outputs": []
    },
    {
      "cell_type": "markdown",
      "source": [
        "### 4.4、定义SQL查询函数和执行函数"
      ],
      "metadata": {
        "id": "M5it93fSRS2n"
      }
    },
    {
      "cell_type": "code",
      "source": [
        "# 定义函数ask_database,用于实际执行SQL查询并返回结果\n",
        "def ask_database(conn, query):\n",
        "    \"\"\"使用 query 来查询 SQLite 数据库的函数。这里的query是大语言模型生成的\"\"\"\n",
        "    try:\n",
        "        results = str(conn.execute(query).fetchall())  # 执行查询，并将结果转换为字符串\n",
        "    except Exception as e:  # 如果查询失败，捕获异常并返回错误信息\n",
        "        results = f\"query failed with error: {e}\"\n",
        "    return results  # 返回查询结果\n",
        "\n",
        "# 根据消息中的功能调用信息来执行相应的功能并获取结果\n",
        "def execute_function_call(message):\n",
        "    \"\"\"执行函数调用\"\"\"\n",
        "    # 判断功能调用的名称是否为 \"ask_database\"\n",
        "    if message[\"function_call\"][\"name\"] == \"ask_database\":\n",
        "        # 如果是，则获取功能调用的参数，这里是 SQL 查询\n",
        "        query = json.loads(message[\"function_call\"][\"arguments\"])[\"query\"]\n",
        "        # 使用 ask_database 函数执行查询，并获取结果\n",
        "        results = ask_database(conn, query)\n",
        "    else:\n",
        "        # 如果功能调用的名称不是 \"ask_database\"，则返回错误信息\n",
        "        results = f\"Error: function {message['function_call']['name']} does not exist\"\n",
        "    return results  # 返回结果\n"
      ],
      "metadata": {
        "id": "-8XywiPeRZhu"
      },
      "execution_count": 18,
      "outputs": []
    },
    {
      "cell_type": "code",
      "source": [
        "# 创建一个空的消息列表\n",
        "messages = []\n",
        "\n",
        "# 向消息列表中添加一个系统角色的消息，内容是 \"Answer user questions by generating SQL queries against the Chinook Music Database.\"\n",
        "messages.append({\"role\": \"system\", \"content\": \"Answer user questions by generating SQL queries against the Chinook Music Database.\"})\n",
        "\n",
        "# 向消息列表中添加一个用户角色的消息，内容是 \"Hi, who are the top 5 artists by number of tracks?\"\n",
        "messages.append({\"role\": \"user\", \"content\": \"Hi, who are the top 5 artists by number of tracks?\"})\n",
        "\n",
        "response = chat_completion_api(messages, functions=functions)\n",
        "assistant_message = response[\"choices\"][0][\"message\"]\n",
        "assistant_message_dict = format_assistant_message_dict(assistant_message)\n",
        "messages.append(assistant_message_dict)\n",
        "\n",
        "if assistant_message.get(\"function_call\"):\n",
        "    # 使用 execute_function_call 函数执行功能调用，并获取结果\n",
        "    results = execute_function_call(assistant_message)\n",
        "    # 将功能的结果作为一个功能角色的消息添加到消息列表中\n",
        "    messages.append({\"role\": \"function\", \"name\": assistant_message[\"function_call\"][\"name\"], \"content\": results})\n",
        "\n",
        "pretty_print_conversation(messages)"
      ],
      "metadata": {
        "id": "lyLTZCwUSRiT",
        "colab": {
          "base_uri": "https://localhost:8080/"
        },
        "outputId": "46a2d67e-0f0a-4221-f65b-c071a0ce9f60"
      },
      "execution_count": 19,
      "outputs": [
        {
          "output_type": "stream",
          "name": "stdout",
          "text": [
            "system: Answer user questions by generating SQL queries against the Chinook Music Database.\n",
            "\n",
            "user: Hi, who are the top 5 artists by number of tracks?\n",
            "\n",
            "assistant[function_call]: {\n",
            "  \"name\": \"ask_database\",\n",
            "  \"arguments\": \"{\\n  \\\"query\\\": \\\"SELECT artists.Name, COUNT(tracks.TrackId) AS TrackCount FROM artists JOIN albums ON artists.ArtistId = albums.ArtistId JOIN tracks ON albums.AlbumId = tracks.AlbumId GROUP BY artists.Name ORDER BY TrackCount DESC LIMIT 5;\\\"\\n}\"\n",
            "}\n",
            "\n",
            "function (ask_database): [('Iron Maiden', 213), ('U2', 135), ('Led Zeppelin', 114), ('Metallica', 112), ('Lost', 92)]\n",
            "\n"
          ]
        }
      ]
    },
    {
      "cell_type": "code",
      "source": [
        "# 向消息列表中添加一个用户的问题，内容是 \"What is the name of the album with the most tracks?\"\n",
        "messages.append({\"role\": \"user\", \"content\": \"What is the name of the album with the most tracks?\"})\n",
        "\n",
        "\n",
        "response = chat_completion_api(messages, functions=functions)\n",
        "assistant_message = response[\"choices\"][0][\"message\"]\n",
        "\n",
        "\n",
        "response = chat_completion_api(messages, functions=functions)\n",
        "assistant_message = response[\"choices\"][0][\"message\"]\n",
        "assistant_message_dict = format_assistant_message_dict(assistant_message)\n",
        "messages.append(assistant_message_dict)\n",
        "\n",
        "if assistant_message.get(\"function_call\"):\n",
        "    # 使用 execute_function_call 函数执行功能调用，并获取结果\n",
        "    results = execute_function_call(assistant_message)\n",
        "    # 将功能的结果作为一个功能角色的消息添加到消息列表中\n",
        "    messages.append({\"role\": \"function\", \"name\": assistant_message[\"function_call\"][\"name\"], \"content\": results})\n",
        "\n",
        "pretty_print_conversation(messages)"
      ],
      "metadata": {
        "id": "dTZIQOsnSTkf",
        "colab": {
          "base_uri": "https://localhost:8080/"
        },
        "outputId": "b34b960a-97b2-4684-a17b-9a78812ce474"
      },
      "execution_count": 20,
      "outputs": [
        {
          "output_type": "stream",
          "name": "stdout",
          "text": [
            "system: Answer user questions by generating SQL queries against the Chinook Music Database.\n",
            "\n",
            "user: Hi, who are the top 5 artists by number of tracks?\n",
            "\n",
            "assistant[function_call]: {\n",
            "  \"name\": \"ask_database\",\n",
            "  \"arguments\": \"{\\n  \\\"query\\\": \\\"SELECT artists.Name, COUNT(tracks.TrackId) AS TrackCount FROM artists JOIN albums ON artists.ArtistId = albums.ArtistId JOIN tracks ON albums.AlbumId = tracks.AlbumId GROUP BY artists.Name ORDER BY TrackCount DESC LIMIT 5;\\\"\\n}\"\n",
            "}\n",
            "\n",
            "function (ask_database): [('Iron Maiden', 213), ('U2', 135), ('Led Zeppelin', 114), ('Metallica', 112), ('Lost', 92)]\n",
            "\n",
            "user: What is the name of the album with the most tracks?\n",
            "\n",
            "assistant[function_call]: {\n",
            "  \"name\": \"ask_database\",\n",
            "  \"arguments\": \"{\\n  \\\"query\\\": \\\"SELECT albums.Title, COUNT(tracks.TrackId) AS TrackCount FROM albums JOIN tracks ON albums.AlbumId = tracks.AlbumId GROUP BY albums.Title ORDER BY TrackCount DESC LIMIT 1;\\\"\\n}\"\n",
            "}\n",
            "\n",
            "function (ask_database): [('Greatest Hits', 57)]\n",
            "\n"
          ]
        }
      ]
    },
    {
      "cell_type": "markdown",
      "source": [
        "# Homework2\n",
        "\n",
        "**使用类似搜索引擎API，实现完整可执行的天气查询应用**"
      ],
      "metadata": {
        "id": "Is-BIYlAUyd8"
      }
    },
    {
      "cell_type": "markdown",
      "source": [
        "## 1、定义函数列表，分别是获取当前天气和获取未来N天的天气"
      ],
      "metadata": {
        "id": "h8Cc0wvuVJrx"
      }
    },
    {
      "cell_type": "code",
      "source": [
        "# 定义一个名为functions的列表，其中包含两个字典，这两个字典分别定义了两个功能的相关参数\n",
        "\n",
        "# 第一个字典定义了一个名为\"get_current_weather\"的功能\n",
        "functions = [\n",
        "    {\n",
        "        \"name\": \"get_current_weather\",  # 函数的名称\n",
        "        \"description\": \"Get the current weather\",  # 函数的描述\n",
        "        \"parameters\": {  # 定义该函数需要的参数\n",
        "            \"type\": \"object\",\n",
        "            \"properties\": {  # 参数的属性\n",
        "                \"location\": {  # 地点参数\n",
        "                    \"type\": \"string\",  # 参数类型为字符串\n",
        "                    \"description\": \"The city and state, e.g. San Francisco, CA\",  # 参数的描述\n",
        "                },\n",
        "                \"format\": {  # 温度单位参数\n",
        "                    \"type\": \"string\",  # 参数类型为字符串\n",
        "                    \"enum\": [\"celsius\", \"fahrenheit\"],  # 参数的取值范围\n",
        "                    \"description\": \"The temperature unit to use. Infer this from the users location.\",  # 参数的描述\n",
        "                },\n",
        "            },\n",
        "            \"required\": [\"location\", \"format\"],  # 该功能需要的必要参数\n",
        "        },\n",
        "    },\n",
        "    # 第二个字典定义了一个名为\"get_n_day_weather_forecast\"的功能\n",
        "    {\n",
        "        \"name\": \"get_n_day_weather_forecast\",  # 功能的名称\n",
        "        \"description\": \"Get an N-day weather forecast\",  # 功能的描述\n",
        "        \"parameters\": {  # 定义该功能需要的参数\n",
        "            \"type\": \"object\",\n",
        "            \"properties\": {  # 参数的属性\n",
        "                \"location\": {  # 地点参数\n",
        "                    \"type\": \"string\",  # 参数类型为字符串\n",
        "                    \"description\": \"The city and state, e.g. San Francisco, CA\",  # 参数的描述\n",
        "                },\n",
        "                \"format\": {  # 温度单位参数\n",
        "                    \"type\": \"string\",  # 参数类型为字符串\n",
        "                    \"enum\": [\"celsius\", \"fahrenheit\"],  # 参数的取值范围\n",
        "                    \"description\": \"The temperature unit to use. Infer this from the users location.\",  # 参数的描述\n",
        "                },\n",
        "                \"num_days\": {  # 预测天数参数\n",
        "                    \"type\": \"integer\",  # 参数类型为整数\n",
        "                    \"description\": \"The number of days to forecast\",  # 参数的描述\n",
        "                }\n",
        "            },\n",
        "            \"required\": [\"location\", \"format\", \"num_days\"]  # 该功能需要的必要参数\n",
        "        },\n",
        "    },\n",
        "]"
      ],
      "metadata": {
        "id": "TsKvox1RVHLj"
      },
      "execution_count": 21,
      "outputs": []
    },
    {
      "cell_type": "markdown",
      "source": [
        "## 2、实现获取天气函数\n",
        "\n",
        "通过OpenWeatherMap的API接口实现，需要先注册OpenWeatherMap账户，并获取一个API Key"
      ],
      "metadata": {
        "id": "nQOoWM1fV847"
      }
    },
    {
      "cell_type": "code",
      "source": [
        "import requests\n",
        "\n",
        "# 从谷歌云盘中获取OpenWeather的API_KEY\n",
        "def get_open_weather_api_key():\n",
        "  from google.colab import drive\n",
        "  drive.mount('/content/drive')\n",
        "\n",
        "  import json\n",
        "  import os\n",
        "  with open(\"/content/drive/MyDrive/config/open_weather.json\", \"r\") as f:\n",
        "    config_data = json.load(f)\n",
        "  return config_data.get(\"api_key\")\n",
        "\n",
        "# 获取城市的维度和经度\n",
        "def get_city_position(city_name):\n",
        "  url = \"http://api.openweathermap.org/geo/1.0/direct\"\n",
        "  api_key = get_open_weather_api_key()\n",
        "  params = {\"q\":city_name, \"appid\":api_key}\n",
        "  response = requests.get(url, params=params)\n",
        "  if response.status_code == 200:\n",
        "    data = response.json()[0]\n",
        "    return data.get(\"lat\"), data.get(\"lon\")\n",
        "  else:\n",
        "    error_info = \"请求失败, 状态码：{}\".format(response.status_code)\n",
        "    raise ValueError(error_info)\n",
        "\n",
        "# 获取位置当前的温度\n",
        "def get_current_temperature(lat, lon):\n",
        "  url = \"https://api.openweathermap.org/data/2.5/weather\"\n",
        "  api_key = get_open_weather_api_key()\n",
        "  params = {\"lat\":lat, \"lon\":lon, \"appid\":api_key}\n",
        "  response = requests.get(url, params=params)\n",
        "  if response.status_code == 200:\n",
        "    data = response.json().get(\"main\").get(\"temp\") - 273.15\n",
        "    return round(data, 2)\n",
        "  else:\n",
        "    error_info = \"请求失败, 状态码：{}\".format(response.status_code)\n",
        "    raise ValueError(error_info)\n",
        "\n",
        "# 获取位置未来几天的问题，这个API需要充值，就暂不实现\n",
        "\n",
        "# 封装获取城市当前的温度\n",
        "def get_current_weather(city_name, temperature_format=\"celsius\"):\n",
        "  lat, lon = get_city_position(city_name)\n",
        "  temperature = get_current_temperature(lat, lon)\n",
        "  if temperature_format == \"fahrenheit\":\n",
        "    return 9.0/5 * temperature + 32\n",
        "  return temperature\n",
        "\n",
        "print(get_current_weather(\"ShenZhen\"))"
      ],
      "metadata": {
        "id": "oBzZzEu4Y1rc",
        "colab": {
          "base_uri": "https://localhost:8080/"
        },
        "outputId": "f8b5a5f7-c638-4a93-b47b-6d69221fcb4c"
      },
      "execution_count": 29,
      "outputs": [
        {
          "output_type": "stream",
          "name": "stdout",
          "text": [
            "Drive already mounted at /content/drive; to attempt to forcibly remount, call drive.mount(\"/content/drive\", force_remount=True).\n",
            "Drive already mounted at /content/drive; to attempt to forcibly remount, call drive.mount(\"/content/drive\", force_remount=True).\n",
            "29.55\n"
          ]
        }
      ]
    },
    {
      "cell_type": "markdown",
      "source": [
        "## 3、执行天气查询\n"
      ],
      "metadata": {
        "id": "4oXnJgdikbLy"
      }
    },
    {
      "cell_type": "code",
      "source": [
        "def execute_function_call(message):\n",
        "  if message[\"function_call\"][\"name\"] == \"get_current_weather\":\n",
        "    arguments = json.loads(message[\"function_call\"][\"arguments\"])\n",
        "    city_name = arguments[\"location\"]\n",
        "    temperature_format = arguments[\"format\"]\n",
        "    temperature = get_current_weather(city_name, temperature_format)\n",
        "    results = f\"{city_name} tody temperature is {temperature} in {temperature_format}\"\n",
        "  else:\n",
        "    results = f\"Error: function {message['function_call']['name']} does not exist\"\n",
        "  return results"
      ],
      "metadata": {
        "id": "pFCA76lRknC9"
      },
      "execution_count": 35,
      "outputs": []
    },
    {
      "cell_type": "code",
      "source": [
        "# 创建一个空的消息列表\n",
        "messages = []\n",
        "\n",
        "messages.append({\n",
        "    \"role\": \"system\",\n",
        "    \"content\": \"Don't make assumptions about what values to plug into functions. Ask for clarification if a user request is ambiguous.\"\n",
        "})\n",
        "\n",
        "\n",
        "messages.append({\n",
        "    \"role\": \"user\",  # 消息的角色是\"user\"\n",
        "    \"content\": \"What's the weather like today in ShenZhen\"  # 用户询问今天的天气情况\n",
        "})\n",
        "\n",
        "response = chat_completion_api(messages, functions=functions)\n",
        "assistant_message = response[\"choices\"][0][\"message\"]\n",
        "assistant_message_dict = format_assistant_message_dict(assistant_message)\n",
        "messages.append(assistant_message_dict)\n",
        "\n",
        "if assistant_message.get(\"function_call\"):\n",
        "    # 使用 execute_function_call 函数执行功能调用，并获取结果\n",
        "    results = execute_function_call(assistant_message)\n",
        "    # 将功能的结果作为一个功能角色的消息添加到消息列表中\n",
        "    messages.append({\"role\": \"function\", \"name\": assistant_message[\"function_call\"][\"name\"], \"content\": results})\n",
        "\n",
        "pretty_print_conversation(messages)"
      ],
      "metadata": {
        "colab": {
          "base_uri": "https://localhost:8080/"
        },
        "id": "P2GD7_k9m6J_",
        "outputId": "8ae49698-ca84-4fbc-f58f-2ff87898dc56"
      },
      "execution_count": 38,
      "outputs": [
        {
          "output_type": "stream",
          "name": "stdout",
          "text": [
            "Drive already mounted at /content/drive; to attempt to forcibly remount, call drive.mount(\"/content/drive\", force_remount=True).\n",
            "Drive already mounted at /content/drive; to attempt to forcibly remount, call drive.mount(\"/content/drive\", force_remount=True).\n",
            "system: Don't make assumptions about what values to plug into functions. Ask for clarification if a user request is ambiguous.\n",
            "\n",
            "user: What's the weather like today in ShenZhen\n",
            "\n",
            "assistant[function_call]: {\n",
            "  \"name\": \"get_current_weather\",\n",
            "  \"arguments\": \"{\\n  \\\"location\\\": \\\"ShenZhen\\\",\\n  \\\"format\\\": \\\"celsius\\\"\\n}\"\n",
            "}\n",
            "\n",
            "function (get_current_weather): ShenZhen tody temperature is 29.85 in celsius\n",
            "\n"
          ]
        }
      ]
    }
  ]
}